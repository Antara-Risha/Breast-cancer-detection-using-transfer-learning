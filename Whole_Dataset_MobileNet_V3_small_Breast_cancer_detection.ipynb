{
  "cells": [
    {
      "cell_type": "markdown",
      "metadata": {
        "id": "view-in-github",
        "colab_type": "text"
      },
      "source": [
        "<a href=\"https://colab.research.google.com/github/Antara-Risha/Breast-cancer-detection-using-transfer-learning/blob/main/Whole_Dataset_MobileNet_V3_small_Breast_cancer_detection.ipynb\" target=\"_parent\"><img src=\"https://colab.research.google.com/assets/colab-badge.svg\" alt=\"Open In Colab\"/></a>"
      ]
    },
    {
      "cell_type": "code",
      "execution_count": null,
      "metadata": {
        "colab": {
          "base_uri": "https://localhost:8080/"
        },
        "id": "XtrjXd1akOcr",
        "outputId": "87ddd5c3-658e-4001-fa72-7e88082997b7"
      },
      "outputs": [
        {
          "output_type": "stream",
          "name": "stdout",
          "text": [
            "Found existing installation: Keras-Applications 1.0.8\n",
            "Uninstalling Keras-Applications-1.0.8:\n",
            "  Would remove:\n",
            "    /usr/local/lib/python3.7/dist-packages/Keras_Applications-1.0.8.dist-info/*\n",
            "    /usr/local/lib/python3.7/dist-packages/keras_applications/*\n",
            "Proceed (y/n)? y\n",
            "  Successfully uninstalled Keras-Applications-1.0.8\n"
          ]
        }
      ],
      "source": [
        "pip uninstall keras-applications"
      ]
    },
    {
      "cell_type": "code",
      "execution_count": null,
      "metadata": {
        "colab": {
          "base_uri": "https://localhost:8080/"
        },
        "id": "KFTTgYDVkUk3",
        "outputId": "3b80914a-d885-4513-e979-71465b92eb1d"
      },
      "outputs": [
        {
          "output_type": "stream",
          "name": "stdout",
          "text": [
            "Collecting git+https://github.com/keras-team/keras-applications.git@master\n",
            "  Cloning https://github.com/keras-team/keras-applications.git (to revision master) to /tmp/pip-req-build-2_7qei1r\n",
            "  Running command git clone -q https://github.com/keras-team/keras-applications.git /tmp/pip-req-build-2_7qei1r\n",
            "Requirement already satisfied: numpy>=1.9.1 in /usr/local/lib/python3.7/dist-packages (from Keras-Applications==1.0.8) (1.21.5)\n",
            "Requirement already satisfied: h5py in /usr/local/lib/python3.7/dist-packages (from Keras-Applications==1.0.8) (3.1.0)\n",
            "Requirement already satisfied: cached-property in /usr/local/lib/python3.7/dist-packages (from h5py->Keras-Applications==1.0.8) (1.5.2)\n"
          ]
        }
      ],
      "source": [
        "pip install git+https://github.com/keras-team/keras-applications.git@master"
      ]
    },
    {
      "cell_type": "code",
      "execution_count": null,
      "metadata": {
        "id": "RjdRx1bYkbhY"
      },
      "outputs": [],
      "source": [
        "import numpy as np\n",
        "import matplotlib.pyplot as plt\n",
        "from sklearn.model_selection import train_test_split\n",
        "import tensorflow as tf\n",
        "import keras as keras \n",
        "from tensorflow.keras import datasets, layers, models, losses, optimizers\n",
        "from tensorflow.keras.utils import to_categorical\n",
        "from keras_applications.mobilenet_v3 import MobileNetV3Small\n"
      ]
    },
    {
      "cell_type": "code",
      "source": [
        "pip install keras-utils"
      ],
      "metadata": {
        "colab": {
          "base_uri": "https://localhost:8080/"
        },
        "id": "Fqm5mwN4Wcbw",
        "outputId": "5d659ca7-a4e0-4dfa-9e1e-a336acff0c46"
      },
      "execution_count": null,
      "outputs": [
        {
          "output_type": "stream",
          "name": "stdout",
          "text": [
            "Requirement already satisfied: keras-utils in /usr/local/lib/python3.7/dist-packages (1.0.13)\n",
            "Requirement already satisfied: Keras>=2.1.5 in /usr/local/lib/python3.7/dist-packages (from keras-utils) (2.8.0)\n"
          ]
        }
      ]
    },
    {
      "cell_type": "code",
      "execution_count": null,
      "metadata": {
        "colab": {
          "base_uri": "https://localhost:8080/"
        },
        "id": "jWzAhnLV1926",
        "outputId": "96693fca-4532-4aeb-c537-ed5e87e6739e"
      },
      "outputs": [
        {
          "output_type": "stream",
          "name": "stdout",
          "text": [
            "Requirement already satisfied: gdown in /usr/local/lib/python3.7/dist-packages (4.4.0)\n",
            "Requirement already satisfied: tqdm in /usr/local/lib/python3.7/dist-packages (from gdown) (4.64.0)\n",
            "Requirement already satisfied: requests[socks] in /usr/local/lib/python3.7/dist-packages (from gdown) (2.23.0)\n",
            "Requirement already satisfied: beautifulsoup4 in /usr/local/lib/python3.7/dist-packages (from gdown) (4.6.3)\n",
            "Requirement already satisfied: six in /usr/local/lib/python3.7/dist-packages (from gdown) (1.15.0)\n",
            "Requirement already satisfied: filelock in /usr/local/lib/python3.7/dist-packages (from gdown) (3.6.0)\n",
            "Requirement already satisfied: certifi>=2017.4.17 in /usr/local/lib/python3.7/dist-packages (from requests[socks]->gdown) (2021.10.8)\n",
            "Requirement already satisfied: idna<3,>=2.5 in /usr/local/lib/python3.7/dist-packages (from requests[socks]->gdown) (2.10)\n",
            "Requirement already satisfied: urllib3!=1.25.0,!=1.25.1,<1.26,>=1.21.1 in /usr/local/lib/python3.7/dist-packages (from requests[socks]->gdown) (1.24.3)\n",
            "Requirement already satisfied: chardet<4,>=3.0.2 in /usr/local/lib/python3.7/dist-packages (from requests[socks]->gdown) (3.0.4)\n",
            "Requirement already satisfied: PySocks!=1.5.7,>=1.5.6 in /usr/local/lib/python3.7/dist-packages (from requests[socks]->gdown) (1.7.1)\n"
          ]
        }
      ],
      "source": [
        "!pip install --upgrade --no-cache-dir gdown"
      ]
    },
    {
      "cell_type": "code",
      "execution_count": null,
      "metadata": {
        "colab": {
          "base_uri": "https://localhost:8080/"
        },
        "id": "Cs_6TB_c5sPj",
        "outputId": "ef265551-2748-4089-e456-390220cedfdf"
      },
      "outputs": [
        {
          "output_type": "stream",
          "name": "stdout",
          "text": [
            "/usr/local/lib/python3.7/dist-packages/gdown/cli.py:131: FutureWarning: Option `--id` was deprecated in version 4.3.1 and will be removed in 5.0. You don't need to pass it anymore to use a file ID.\n",
            "  category=FutureWarning,\n",
            "Downloading...\n",
            "From: https://drive.google.com/uc?id=1nLizY9-V3gxuHw1sphQ62yTZBOKTDZCC\n",
            "To: /content/400X.zip\n",
            "100% 4.22G/4.22G [00:28<00:00, 148MB/s]\n"
          ]
        }
      ],
      "source": [
        "!gdown --id 1nLizY9-V3gxuHw1sphQ62yTZBOKTDZCC"
      ]
    },
    {
      "cell_type": "code",
      "execution_count": null,
      "metadata": {
        "colab": {
          "base_uri": "https://localhost:8080/"
        },
        "id": "YSIEkhhT5aCf",
        "outputId": "3ac39fc6-43e3-4940-ae11-10516cddcb37"
      },
      "outputs": [
        {
          "output_type": "stream",
          "name": "stdout",
          "text": [
            "replace 400X/400X/benign/adenosis/test/SOB_B_A-14-22549G-100-026.png? [y]es, [n]o, [A]ll, [N]one, [r]ename: A\n",
            "\n",
            "\n"
          ]
        }
      ],
      "source": [
        "!unzip -q /content/400X.zip"
      ]
    },
    {
      "cell_type": "code",
      "execution_count": null,
      "metadata": {
        "id": "cCAcP2jYu8vA"
      },
      "outputs": [],
      "source": [
        "X_train = []\n",
        "y_train = []\n",
        "\n",
        "import glob\n",
        "import cv2\n",
        "train_files = glob.glob('/content/400X/400X/*/*/train/*')\n",
        "\n",
        "def view_fig(img):\n",
        "    plt.clf()\n",
        "    plt.imshow(cv2.cvtColor(img, cv2.COLOR_BGR2RGB))\n",
        "    plt.show()\n",
        "\n",
        "for file_path in train_files:\n",
        "    label = file_path.split('/')[3]\n",
        "    data = cv2.imread(file_path, cv2.IMREAD_COLOR)\n",
        "    data = cv2.resize(data,(56,56))\n",
        "    X_train.append(data)\n",
        "    if(label=='benign'):\n",
        "        y_train.append(0)\n",
        "    else:\n",
        "        y_train.append(1) "
      ]
    },
    {
      "cell_type": "code",
      "execution_count": null,
      "metadata": {
        "id": "5kLuOqO4-62k"
      },
      "outputs": [],
      "source": [
        "X_test = []\n",
        "y_test = []\n",
        "\n",
        "import glob\n",
        "import cv2\n",
        "train_files = glob.glob('/content/400X/400X/*/*/test/*')\n",
        "\n",
        "\n",
        "# def view_fig(img):\n",
        "#     plt.clf()\n",
        "#     plt.imshow(cv2.cvtColor(img, cv2.COLOR_BGR2RGB))\n",
        "#     plt.show()\n",
        "\n",
        "for file_path in train_files:\n",
        "    label = file_path.split('/')[3]\n",
        "    data = cv2.imread(file_path, cv2.IMREAD_COLOR)\n",
        "    data = cv2.resize(data,(56,56))\n",
        "    X_test.append(data)\n",
        "    if(label=='benign'):\n",
        "        y_test.append(0)\n",
        "    else:\n",
        "        y_test.append(1) "
      ]
    },
    {
      "cell_type": "code",
      "execution_count": null,
      "metadata": {
        "id": "JFltTMuFQovu"
      },
      "outputs": [],
      "source": [
        "X_val = []\n",
        "y_val = []\n",
        "\n",
        "import glob\n",
        "import cv2\n",
        "train_files = glob.glob('/content/400X/400X/*/*/val/*')\n",
        "\n",
        "\n",
        "# def view_fig(img):\n",
        "#     plt.clf()\n",
        "#     plt.imshow(cv2.cvtColor(img, cv2.COLOR_BGR2RGB))\n",
        "#     plt.show()\n",
        "\n",
        "for file_path in train_files:\n",
        "    label = file_path.split('/')[3]\n",
        "    data = cv2.imread(file_path, cv2.IMREAD_COLOR)\n",
        "    data = cv2.resize(data,(56,56))\n",
        "    X_val.append(data)\n",
        "    if(label=='benign'):\n",
        "        y_val.append(0)\n",
        "    else:\n",
        "        y_val.append(1) "
      ]
    },
    {
      "cell_type": "code",
      "execution_count": null,
      "metadata": {
        "colab": {
          "base_uri": "https://localhost:8080/"
        },
        "id": "UpX_j9PhRCEL",
        "outputId": "f7136cf6-1f89-4f04-f4e0-2ab035904ecf"
      },
      "outputs": [
        {
          "output_type": "execute_result",
          "data": {
            "text/plain": [
              "(56, 56, 3)"
            ]
          },
          "metadata": {},
          "execution_count": 10
        }
      ],
      "source": [
        "X_train=np.asarray(X_train)\n",
        "X_train= X_train.reshape(-1,56,56,3)\n",
        "X_train[0].shape\n",
        "# In [19]: X_train.size * X_train.shape  \n",
        "# Out[19]: 0"
      ]
    },
    {
      "cell_type": "code",
      "execution_count": null,
      "metadata": {
        "colab": {
          "base_uri": "https://localhost:8080/"
        },
        "id": "lHOa81lnSz1k",
        "outputId": "2aa762ed-ca22-43ba-8e68-a0aa6dedb5b4"
      },
      "outputs": [
        {
          "output_type": "execute_result",
          "data": {
            "text/plain": [
              "(56, 56, 3)"
            ]
          },
          "metadata": {},
          "execution_count": 11
        }
      ],
      "source": [
        "X_test=np.asarray(X_test)\n",
        "X_test= X_test.reshape(-1,56,56,3)\n",
        "X_test[0].shape\n",
        "# In [19]: X_test.size * X_test.shape  \n",
        "# Out[19]: 0"
      ]
    },
    {
      "cell_type": "code",
      "execution_count": null,
      "metadata": {
        "id": "fuaVhXaRS5Z8",
        "colab": {
          "base_uri": "https://localhost:8080/"
        },
        "outputId": "980443bf-25b6-4417-c3a2-b968c7c9e8ea"
      },
      "outputs": [
        {
          "output_type": "execute_result",
          "data": {
            "text/plain": [
              "(56, 56, 3)"
            ]
          },
          "metadata": {},
          "execution_count": 12
        }
      ],
      "source": [
        "X_val=np.asarray(X_val)\n",
        "X_val= X_val.reshape(-1,56,56,3)\n",
        "X_val[0].shape\n",
        "# In [19]: X_val.size * X_val.shape  \n",
        "# Out[19]: 0"
      ]
    },
    {
      "cell_type": "code",
      "execution_count": null,
      "metadata": {
        "id": "3M8BvdaHTyuy"
      },
      "outputs": [],
      "source": [
        "y_train = to_categorical(y_train)\n",
        "y_test = to_categorical(y_test)\n",
        "y_val = to_categorical(y_val)\n"
      ]
    },
    {
      "cell_type": "code",
      "execution_count": null,
      "metadata": {
        "id": "2s0cyBkZdE3L"
      },
      "outputs": [],
      "source": [
        "plt.figure(figsize=(5,5))\n",
        "for i in range(25):\n",
        "    plt.subplot(5,5,i+1)\n",
        "    plt.xticks([])\n",
        "    plt.yticks([])\n",
        "    # plt.grid(False)\n",
        "    plt.imshow(X_train[i])\n",
        "    plt.show()"
      ]
    },
    {
      "cell_type": "code",
      "execution_count": null,
      "metadata": {
        "id": "O827yS1Yf7Py"
      },
      "outputs": [],
      "source": [
        "plt.figure(figsize=(5,5))\n",
        "for i in range(25):\n",
        "    plt.subplot(5,5,i+1)\n",
        "    plt.xticks([])\n",
        "    plt.yticks([])\n",
        "    # plt.grid(False)\n",
        "    plt.imshow(X_test[i])\n",
        "    plt.show()"
      ]
    },
    {
      "cell_type": "code",
      "execution_count": null,
      "metadata": {
        "id": "W7PcdJo8f7bx"
      },
      "outputs": [],
      "source": [
        "plt.figure(figsize=(5,5))\n",
        "for i in range(25):\n",
        "    plt.subplot(5,5,i+1)\n",
        "    plt.xticks([])\n",
        "    plt.yticks([])\n",
        "    # plt.grid(False)\n",
        "    plt.imshow(X_val[i])\n",
        "    plt.show()"
      ]
    },
    {
      "cell_type": "code",
      "execution_count": null,
      "metadata": {
        "id": "SLiF8tlvUKwM",
        "colab": {
          "base_uri": "https://localhost:8080/"
        },
        "outputId": "2a88d1a1-1256-4f61-eeb1-fade7b0839b1"
      },
      "outputs": [
        {
          "output_type": "execute_result",
          "data": {
            "text/plain": [
              "(2,)"
            ]
          },
          "metadata": {},
          "execution_count": 17
        }
      ],
      "source": [
        "y_train[0].shape"
      ]
    },
    {
      "cell_type": "code",
      "execution_count": null,
      "metadata": {
        "id": "FJ1eT3RjTK74"
      },
      "outputs": [],
      "source": [
        "\n",
        "# model = models.Sequential()\n",
        "# model.add(layers.Conv2D(32, (3, 3), activation='relu', input_shape=(224, 224, 1)))\n",
        "# model.add(layers.MaxPooling2D((2, 2)))\n",
        "# model.add(layers.Conv2D(64, (3, 3), activation='relu'))\n",
        "# model.add(layers.MaxPooling2D((2, 2)))\n",
        "# model.add(layers.Conv2D(64, (3, 3), activation='relu'))\n",
        "# model.summary()"
      ]
    },
    {
      "cell_type": "code",
      "execution_count": null,
      "metadata": {
        "id": "zL6ZoBIdj5Gf",
        "colab": {
          "base_uri": "https://localhost:8080/"
        },
        "outputId": "03c43f46-be87-48e0-acd1-9026289a8a1b"
      },
      "outputs": [
        {
          "output_type": "stream",
          "name": "stdout",
          "text": [
            "WARNING:tensorflow:`input_shape` is undefined or non-square, or `rows` is not 224. Weights for input shape (224, 224) will be loaded as the default.\n"
          ]
        }
      ],
      "source": [
        "import tensorflow\n",
        "model = models.Sequential()\n",
        "model.add(tensorflow.keras.applications.MobileNetV3Small(\n",
        "    input_shape=None,\n",
        "    alpha=1.0,\n",
        "    minimalistic=False,\n",
        "    include_top=True,\n",
        "    weights='imagenet',\n",
        "    input_tensor=None,\n",
        "    classes=1000,\n",
        "    pooling=None,\n",
        "    dropout_rate=0.2,\n",
        "    classifier_activation='softmax',\n",
        "    include_preprocessing=True\n",
        "))"
      ]
    },
    {
      "cell_type": "code",
      "execution_count": null,
      "metadata": {
        "id": "TJYeEZeYTZSG",
        "colab": {
          "base_uri": "https://localhost:8080/"
        },
        "outputId": "a4d674bc-ad70-43c0-db58-986d0fa149a0"
      },
      "outputs": [
        {
          "output_type": "stream",
          "name": "stdout",
          "text": [
            "Model: \"sequential\"\n",
            "_________________________________________________________________\n",
            " Layer (type)                Output Shape              Param #   \n",
            "=================================================================\n",
            " MobilenetV3small (Functiona  (None, 1000)             2554968   \n",
            " l)                                                              \n",
            "                                                                 \n",
            " flatten_1 (Flatten)         (None, 1000)              0         \n",
            "                                                                 \n",
            " dense (Dense)               (None, 64)                64064     \n",
            "                                                                 \n",
            " dense_1 (Dense)             (None, 2)                 130       \n",
            "                                                                 \n",
            "=================================================================\n",
            "Total params: 2,619,162\n",
            "Trainable params: 2,607,050\n",
            "Non-trainable params: 12,112\n",
            "_________________________________________________________________\n"
          ]
        }
      ],
      "source": [
        "model.add(layers.Flatten())\n",
        "model.add(layers.Dense(64, activation='relu'))\n",
        "model.add(layers.Dense(2, activation = 'softmax'))\n",
        "model.summary()"
      ]
    },
    {
      "cell_type": "code",
      "execution_count": null,
      "metadata": {
        "id": "GmOZGbJ0UWjL"
      },
      "outputs": [],
      "source": [
        "batch_size = 64\n",
        "epochs = 10\n",
        "num_classes = 2"
      ]
    },
    {
      "cell_type": "code",
      "execution_count": null,
      "metadata": {
        "id": "aPMnXguAUheS"
      },
      "outputs": [],
      "source": [
        "model.compile(loss=losses.categorical_crossentropy, optimizer=optimizers.Adam(),metrics=['accuracy'])"
      ]
    },
    {
      "cell_type": "code",
      "execution_count": null,
      "metadata": {
        "id": "EMC98bgCUk7z",
        "colab": {
          "base_uri": "https://localhost:8080/"
        },
        "outputId": "db6ac3aa-ffc8-499c-9909-4c733e3f6385"
      },
      "outputs": [
        {
          "output_type": "stream",
          "name": "stdout",
          "text": [
            "Epoch 1/10\n",
            "98/98 [==============================] - 14s 63ms/step - loss: 3.7704e-07 - accuracy: 1.0000 - val_loss: 1.1921e-07 - val_accuracy: 1.0000\n",
            "Epoch 2/10\n",
            "98/98 [==============================] - 5s 49ms/step - loss: 5.5092e-08 - accuracy: 1.0000 - val_loss: 4.1662e-08 - val_accuracy: 1.0000\n",
            "Epoch 3/10\n",
            "98/98 [==============================] - 5s 50ms/step - loss: 1.9122e-11 - accuracy: 1.0000 - val_loss: 8.8190e-09 - val_accuracy: 1.0000\n",
            "Epoch 4/10\n",
            "98/98 [==============================] - 5s 49ms/step - loss: 1.9122e-11 - accuracy: 1.0000 - val_loss: 1.9767e-09 - val_accuracy: 1.0000\n",
            "Epoch 5/10\n",
            "98/98 [==============================] - 5s 50ms/step - loss: 2.2947e-10 - accuracy: 1.0000 - val_loss: 1.5205e-09 - val_accuracy: 1.0000\n",
            "Epoch 6/10\n",
            "98/98 [==============================] - 5s 49ms/step - loss: 0.0000e+00 - accuracy: 1.0000 - val_loss: 1.3882e-07 - val_accuracy: 1.0000\n",
            "Epoch 7/10\n",
            "98/98 [==============================] - 5s 49ms/step - loss: 0.0000e+00 - accuracy: 1.0000 - val_loss: 2.1895e-07 - val_accuracy: 1.0000\n",
            "Epoch 8/10\n",
            "98/98 [==============================] - 5s 49ms/step - loss: 0.0000e+00 - accuracy: 1.0000 - val_loss: 7.2983e-08 - val_accuracy: 1.0000\n",
            "Epoch 9/10\n",
            "98/98 [==============================] - 5s 51ms/step - loss: 0.0000e+00 - accuracy: 1.0000 - val_loss: 9.7313e-09 - val_accuracy: 1.0000\n",
            "Epoch 10/10\n",
            "98/98 [==============================] - 5s 50ms/step - loss: 0.0000e+00 - accuracy: 1.0000 - val_loss: 0.0000e+00 - val_accuracy: 1.0000\n"
          ]
        }
      ],
      "source": [
        "training_history = model.fit(X_train, y_train,\n",
        "                             batch_size=batch_size,\n",
        "                             epochs=epochs,\n",
        "                             verbose=1,\n",
        "                             validation_data=(X_val, y_val))"
      ]
    },
    {
      "cell_type": "code",
      "execution_count": null,
      "metadata": {
        "id": "M_V2BFgeZefy",
        "colab": {
          "base_uri": "https://localhost:8080/"
        },
        "outputId": "5ca2dbcf-a5ce-48d1-ac23-6fbde0494ee4"
      },
      "outputs": [
        {
          "output_type": "stream",
          "name": "stdout",
          "text": [
            "Test loss: 1.505167102067162e-09\n",
            "Test accuracy: 1.0\n"
          ]
        }
      ],
      "source": [
        "test_eval = model.evaluate(X_test, y_test, verbose=0)\n",
        "print('Test loss:', test_eval[0])\n",
        "print('Test accuracy:', test_eval[1])"
      ]
    },
    {
      "cell_type": "code",
      "execution_count": null,
      "metadata": {
        "id": "hv0T_JtyZ5cP",
        "colab": {
          "base_uri": "https://localhost:8080/",
          "height": 545
        },
        "outputId": "29f3019d-bb5d-460a-adec-df9ea3896b76"
      },
      "outputs": [
        {
          "output_type": "display_data",
          "data": {
            "text/plain": [
              "<Figure size 432x288 with 1 Axes>"
            ],
            "image/png": "[encoded data removed]"
          },
          "metadata": {
            "needs_background": "light"
          }
        },
        {
          "output_type": "display_data",
          "data": {
            "text/plain": [
              "<Figure size 432x288 with 1 Axes>"
            ],
            "image/png": "[encoded data removed]"
          },
          "metadata": {
            "needs_background": "light"
          }
        }
      ],
      "source": [
        "accuracy = training_history.history['accuracy']\n",
        "val_accuracy = training_history.history['val_accuracy']\n",
        "loss = training_history.history['loss']\n",
        "val_loss = training_history.history['val_loss']\n",
        "epoch = range(len(accuracy))\n",
        "plt.plot(epoch, accuracy, label='Training accuracy')\n",
        "plt.plot(epoch, val_accuracy, label='Validation accuracy')\n",
        "plt.title('Training and validation accuracy')\n",
        "plt.legend()\n",
        "plt.figure()\n",
        "plt.plot(epoch, loss, label='Training loss')\n",
        "plt.plot(epoch, val_loss, label='Validation loss')\n",
        "plt.title('Training and validation loss')\n",
        "plt.legend()\n",
        "plt.show()"
      ]
    },
    {
      "cell_type": "markdown",
      "metadata": {
        "id": "Rdar5EnNlf3y"
      },
      "source": [
        "# Remove overfitting by adding dropout"
      ]
    },
    {
      "cell_type": "code",
      "execution_count": null,
      "metadata": {
        "id": "4VGp_l9DZ-ho"
      },
      "outputs": [],
      "source": [
        "model = models.Sequential()\n",
        "model.add(layers.Conv2D(32, (3, 3), activation='relu', input_shape=(224, 224, 1)))\n",
        "model.add(layers.MaxPooling2D((2, 2)))\n",
        "model.add(layers.Dropout(0.25))\n",
        "model.add(layers.Conv2D(64, (3, 3), activation='relu'))\n",
        "model.add(layers.MaxPooling2D((2, 2)))\n",
        "model.add(layers.Dropout(0.25))\n",
        "model.add(layers.Conv2D(64, (3, 3), activation='relu'))\n",
        "model.add(layers.Flatten())\n",
        "model.add(layers.Dense(64, activation='relu'))\n",
        "model.add(layers.Dropout(0.30))\n",
        "model.add(layers.Dense(10, activation = 'softmax'))\n",
        "\n",
        "model.summary()"
      ]
    },
    {
      "cell_type": "code",
      "execution_count": null,
      "metadata": {
        "id": "RRhgCMk2krZg"
      },
      "outputs": [],
      "source": [
        "model.add(layers.Flatten())\n",
        "model.add(layers.Dense(64, activation='relu'))\n",
        "model.add(layers.Dense(2, activation = 'softmax'))\n",
        "model.summary()"
      ]
    },
    {
      "cell_type": "code",
      "execution_count": null,
      "metadata": {
        "id": "5v5Q8i3Vkvjt"
      },
      "outputs": [],
      "source": [
        "batch_size = 64\n",
        "epochs = 10\n",
        "num_classes = 2"
      ]
    },
    {
      "cell_type": "code",
      "execution_count": null,
      "metadata": {
        "id": "gN1bVBXQaeyB"
      },
      "outputs": [],
      "source": [
        "model.compile(loss=losses.categorical_crossentropy, optimizer=optimizers.Adam(),metrics=['accuracy'])"
      ]
    },
    {
      "cell_type": "code",
      "execution_count": null,
      "metadata": {
        "id": "xg1_imo7bpWC"
      },
      "outputs": [],
      "source": [
        "training_history = model.fit(X_train, y_train,\n",
        "                             batch_size=batch_size,\n",
        "                             epochs=epochs,\n",
        "                             verbose=2,\n",
        "                             validation_data=(X_val, y_val))"
      ]
    },
    {
      "cell_type": "code",
      "execution_count": null,
      "metadata": {
        "id": "g01AzoRuk9_b"
      },
      "outputs": [],
      "source": [
        "test_eval = model.evaluate(X_test, y_test, verbose=0)\n",
        "print('Test loss:', test_eval[0])\n",
        "print('Test accuracy:', test_eval[1])"
      ]
    },
    {
      "cell_type": "code",
      "execution_count": null,
      "metadata": {
        "id": "WmR6LKLPlM39"
      },
      "outputs": [],
      "source": [
        "accuracy = training_history.history['accuracy']\n",
        "val_accuracy = training_history.history['val_accuracy']\n",
        "loss = training_history.history['loss']\n",
        "val_loss = training_history.history['val_loss']\n",
        "epoch = range(len(accuracy))\n",
        "plt.plot(epoch, accuracy, label='Training accuracy')\n",
        "plt.plot(epoch, val_accuracy, label='Validation accuracy')\n",
        "plt.title('Training and validation accuracy')\n",
        "plt.legend()\n",
        "plt.figure()\n",
        "plt.plot(epoch, loss, label='Training loss')\n",
        "plt.plot(epoch, val_loss, label='Validation loss')\n",
        "plt.title('Training and validation loss')\n",
        "plt.legend()\n",
        "plt.show()"
      ]
    },
    {
      "cell_type": "markdown",
      "metadata": {
        "id": "bLupeWuDllGb"
      },
      "source": [
        "#Prediction from Test set"
      ]
    },
    {
      "cell_type": "code",
      "execution_count": null,
      "metadata": {
        "id": "Qmaw54IAlyIL"
      },
      "outputs": [],
      "source": [
        "predicted_classes = model.predict(X_test)\n",
        "predicted_classes.shape, y_test.shape"
      ]
    },
    {
      "cell_type": "code",
      "execution_count": null,
      "metadata": {
        "id": "Mhfv3tmdl90M"
      },
      "outputs": [],
      "source": [
        "print(predicted_classes[0])\n",
        "print(np.argmax(np.round(predicted_classes[0])))"
      ]
    },
    {
      "cell_type": "code",
      "execution_count": null,
      "metadata": {
        "id": "9uvCR-BHmBuz"
      },
      "outputs": [],
      "source": [
        "predicted_classes = np.argmax(np.round(predicted_classes),axis=1)\n",
        "predicted_classes.shape"
      ]
    },
    {
      "cell_type": "code",
      "execution_count": null,
      "metadata": {
        "id": "tOg5dadNmGpl"
      },
      "outputs": [],
      "source": [
        "# correct = np.where(predicted_classes==X_test)[0]\n",
        "# print(f'correct labels - {len(correct)}')\n",
        "# for i, correct in enumerate(correct[:9]):\n",
        "#     plt.subplot(3,3,i+1)\n",
        "#     plt.imshow(X_test[correct].reshape(10,10), cmap='gray', interpolation='none')\n",
        "#     plt.title(\"Predicted {}, Class {}\".format(predicted_classes[correct],X_test[correct]))\n",
        "#     plt.tight_layout()"
      ]
    }
  ],
  "metadata": {
    "accelerator": "GPU",
    "colab": {
      "provenance": [],
      "include_colab_link": true
    },
    "kernelspec": {
      "display_name": "Python 3",
      "name": "python3"
    },
    "language_info": {
      "name": "python"
    }
  },
  "nbformat": 4,
  "nbformat_minor": 0
}